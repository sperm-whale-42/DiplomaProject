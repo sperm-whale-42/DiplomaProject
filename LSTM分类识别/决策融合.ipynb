{
 "cells": [
  {
   "cell_type": "markdown",
   "metadata": {},
   "source": [
    "## 说明\n",
    "\n",
    "输入： ① 四个训练好的LSTM网络，对应四个传感器\n",
    "\n",
    "……… ② 四个数据集，内容为四个传感器信号的特征矩阵\n",
    "\n",
    "     \n",
    "函数： ① my_transform，对数据集进行预处理\n",
    "\n",
    "……… ② weights，计算决策矩阵权重\n",
    "\n",
    "     \n",
    "输出： ① 决策融合后的识别精度\n",
    "\n",
    "作者：许志翔（西安交通大学 车辆71）\n",
    "\n",
    "联系方式：mr_xuzhixiang@qq.com\n",
    "\n",
    "参考：孙玉林，余本国.PyTorch深度学习入门与实战.北京:水利水电出版社,2020.\n",
    "\n",
    "………杨纶标, 高英仪, 凌卫新. 模糊数学原理及应用.第5版[M]. 华南理工大学出版社, 2011."
   ]
  },
  {
   "cell_type": "code",
   "execution_count": 3,
   "metadata": {},
   "outputs": [],
   "source": [
    "import torch\n",
    "import torch.nn as nn\n",
    "import numpy as np\n",
    "import seaborn as sns # 绘图\n",
    "import torchvision.transforms as transforms\n",
    "import torch.utils.data as Data\n",
    "from scipy.io import loadmat # mat数据加载接口\n",
    "from sklearn.model_selection import train_test_split # 用于数据集的切分\n",
    "from sklearn.preprocessing import StandardScaler,MinMaxScaler # 数据标准化预处理\n",
    "from sklearn.metrics import accuracy_score,confusion_matrix # 用于计算精度与混淆矩阵\n",
    "from sklearn.manifold import TSNE # 降维\n",
    "import pandas as pd\n",
    "import matplotlib.pyplot as plt"
   ]
  },
  {
   "cell_type": "code",
   "execution_count": 4,
   "metadata": {},
   "outputs": [],
   "source": [
    "# 1. 加载数据集（传感器1到4）\n",
    "file1 = 'D:\\My files\\diploma project\\data\\data_1.mat'\n",
    "file2 = 'D:\\My files\\diploma project\\data\\data_2.mat'\n",
    "file3 = 'D:\\My files\\diploma project\\data\\data_3.mat'\n",
    "file4 = 'D:\\My files\\diploma project\\data\\data_4.mat'"
   ]
  },
  {
   "cell_type": "code",
   "execution_count": 5,
   "metadata": {},
   "outputs": [],
   "source": [
    "## mat_dtype=True，保证了导入后变量的数据类型与原类型一致。\n",
    "data_1 = loadmat(file1, mat_dtype=True)\n",
    "data_2 = loadmat(file2, mat_dtype=True)\n",
    "data_3 = loadmat(file3, mat_dtype=True)\n",
    "data_4 = loadmat(file4, mat_dtype=True)"
   ]
  },
  {
   "cell_type": "code",
   "execution_count": 6,
   "metadata": {},
   "outputs": [],
   "source": [
    "## 导入后的data是一个字典，取出想要的变量字段即可。\n",
    "X1 = data_1['Features_1']\n",
    "Y1 = data_1['targets_1']\n",
    "\n",
    "X2 = data_2['Features_2']\n",
    "Y2 = data_2['targets_2']\n",
    "\n",
    "X3 = data_3['Features_3']\n",
    "Y3 = data_3['targets_3']\n",
    "\n",
    "X4 = data_4['Features_4']\n",
    "Y4 = data_4['targets_4']"
   ]
  },
  {
   "cell_type": "code",
   "execution_count": 7,
   "metadata": {},
   "outputs": [],
   "source": [
    "## 2. 自定义数据集处理函数\n",
    "def my_transform(num_x, num_y):\n",
    "    X_p = np.transpose(num_x,(2,0,1))\n",
    "    X_p = X_p.reshape(700,1640)\n",
    "    ## Y_p = Y.reshape(Y.shape[1])不知道为什么会报错\n",
    "    ## Y_p这里reshape成700×1而非700是为了解决torch.cat报错\n",
    "    ## RuntimeError: zero-dimensional tensor (at position 1) cannot be concatenated\n",
    "    Y_p = num_y.reshape(700,1)\n",
    "    \n",
    "    ## 将X,Y转为张量\n",
    "    x = torch.from_numpy(X_p.astype(np.float32))\n",
    "    y = torch.from_numpy(Y_p.astype(np.int64))\n",
    "    \n",
    "    ## 将数据随机切分为训练集75%和测试集25%\n",
    "    ## x_train,x_test,y_train,y_test = train_test_split(x,y,test_size=0.25,random_state=123)\n",
    "    ## 在全数据集上测试，故不切分数据集\n",
    "    \n",
    "    ## 数据归一化，特征值范围转化到0~1间\n",
    "    ## 注意，只能对训练集使用fit\n",
    "    scales = MinMaxScaler(feature_range=(0,1))\n",
    "    x_all_s = scales.fit_transform(x)\n",
    "\n",
    "    ## 归一化后X又变成numpy了，再重新转成tensor\n",
    "    x_all_s = torch.from_numpy(x_all_s.astype(np.float32))\n",
    "    \n",
    "    ## return sets\n",
    "    return x_all_s, y"
   ]
  },
  {
   "cell_type": "code",
   "execution_count": 8,
   "metadata": {},
   "outputs": [],
   "source": [
    "## 3. 定义权重计算函数，最大偏差模型（王应明）\n",
    "\n",
    "## 输入决策矩阵，7×4 tensor矩阵\n",
    "def weights(dm):\n",
    "    ## 决策矩阵去量纲\n",
    "    scales = MinMaxScaler(feature_range=(0,1))\n",
    "    dm_s = scales.fit_transform(dm.detach())\n",
    "    \n",
    "    summat = np.zeros(dm_s.shape) ## 代表对应位置处元素与所在列的差的和\n",
    "    W = np.zeros(dm_s.shape[1]) ## 权重向量\n",
    "    for j in range(dm_s.shape[1]):\n",
    "        for i in range(dm_s.shape[0]):\n",
    "            for k in range(dm_s.shape[0]):\n",
    "                summat[i,j] += abs(dm_s[i,j]-dm_s[k,j])\n",
    "            \n",
    "    for j in range(dm_s.shape[1]):\n",
    "        V = sum(summat,0)\n",
    "        W[j] = V[j]/sum(V)\n",
    "    \n",
    "    ## 输出权重向量\n",
    "    return W"
   ]
  },
  {
   "cell_type": "code",
   "execution_count": 9,
   "metadata": {},
   "outputs": [
    {
     "name": "stdout",
     "output_type": "stream",
     "text": [
      "torch.Size([700, 1640])\n",
      "torch.Size([700, 1])\n"
     ]
    }
   ],
   "source": [
    "## 4. 数据预处理\n",
    "## sensor1代表传感器1获得的信号特征矩阵，y1表示对应的标签\n",
    "sensor1,y1 = my_transform(X1, Y1)\n",
    "sensor2,y2 = my_transform(X2, Y2)\n",
    "sensor3,y3 = my_transform(X3, Y3)\n",
    "sensor4,y4 = my_transform(X4, Y4)\n",
    "\n",
    "## 比较四个传感器标签是否一致，一致则统一用y表示\n",
    "if (y1==y2).all()&(y2==y3).all()&(y3==y4).all():\n",
    "    y = y1\n",
    "else:\n",
    "    print(\"标签错误\")\n",
    "\n",
    "print(sensor1.shape)\n",
    "print(y.shape)"
   ]
  },
  {
   "cell_type": "code",
   "execution_count": 10,
   "metadata": {},
   "outputs": [],
   "source": [
    "## 5. 搭建LSTM分类器\n",
    "class LSTM(nn.Module):\n",
    "    def __init__(self, input_dim, hidden_dim, layer_dim, output_dim):\n",
    "        super(LSTM, self).__init__()\n",
    "        self.hidden_dim = hidden_dim ## LSTM神经元个数\n",
    "        self.layer_dim = layer_dim   ## LSTM的层数\n",
    "        self.lstm = nn.LSTM(input_dim,hidden_dim,layer_dim,batch_first=True) ## nonlinearity='relu'\n",
    "        ## 连接全连接层\n",
    "        self.fc1 = nn.Linear(hidden_dim,output_dim) ## self.fc1 = nn.Linear(hidden_dim,output_dim)\n",
    "        ## 添加dropout层\n",
    "        ## self.dropout = nn.Dropout(p=0.5)  ## dropout训练\n",
    "        \n",
    "    def forward(self,x):\n",
    "        ## x:[batch,time_step,input_dim]\n",
    "        ## h_n:[layer_dim,batch,hidden_dim]\n",
    "        h_0 = torch.zeros(self.layer_dim, x.size(0), self.hidden_dim).requires_grad_().to(device)\n",
    "        c_0 = torch.zeros(self.layer_dim, x.size(0), self.hidden_dim).requires_grad_().to(device)\n",
    "        out, (h_n, c_n) = self.lstm(x,(h_0.detach(),c_0.detach())) ## None表示h0会使用全0进行初始化\n",
    "        ## 选取最后一个时间点的out输出\n",
    "        ## out = self.dropout(out)\n",
    "        out = self.fc1(out[:,-1,:])\n",
    "        return out"
   ]
  },
  {
   "cell_type": "code",
   "execution_count": 11,
   "metadata": {},
   "outputs": [
    {
     "data": {
      "text/plain": [
       "<All keys matched successfully>"
      ]
     },
     "execution_count": 11,
     "metadata": {},
     "output_type": "execute_result"
    }
   ],
   "source": [
    "## 6. 初始化模型\n",
    "input_dim=40 ## 图片每行的像素数量\n",
    "hidden_dim=64 ## RNN神经元个数\n",
    "layer_dim=1 ## RNN的层数\n",
    "output_dim=7 ## 隐藏层输出的维度（7类图像）\n",
    "sequence_dim = 41 ## 序列长度（矩阵有多少行）\n",
    "\n",
    "device = torch.device('cuda:0' if torch.cuda.is_available() else 'cpu')\n",
    "\n",
    "# 初始化传感器1—4的lstm模型\n",
    "lstm1 = LSTM(input_dim,hidden_dim,layer_dim,output_dim)\n",
    "lstm2 = LSTM(input_dim,hidden_dim,layer_dim,output_dim)\n",
    "lstm3 = LSTM(input_dim,hidden_dim,layer_dim,output_dim)\n",
    "lstm4 = LSTM(input_dim,hidden_dim,layer_dim,output_dim)\n",
    "\n",
    "# 模型参数地址\n",
    "path1 = \"D:\\My files\\diploma project\\python codes\\lstm1.pkl\"\n",
    "path2 = \"D:\\My files\\diploma project\\python codes\\lstm2.pkl\"\n",
    "path3 = \"D:\\My files\\diploma project\\python codes\\lstm3.pkl\"\n",
    "path4 = \"D:\\My files\\diploma project\\python codes\\lstm4.pkl\"\n",
    "\n",
    "# 加载模型参数\n",
    "lstm1.load_state_dict(torch.load(path1)) \n",
    "lstm2.load_state_dict(torch.load(path2)) \n",
    "lstm3.load_state_dict(torch.load(path3)) \n",
    "lstm4.load_state_dict(torch.load(path4)) "
   ]
  },
  {
   "cell_type": "code",
   "execution_count": 14,
   "metadata": {
    "scrolled": true
   },
   "outputs": [
    {
     "name": "stdout",
     "output_type": "stream",
     "text": [
      "传感器2的预测精度为： 0.9157142857142857\n",
      "torch.Size([700])\n",
      "torch.Size([700])\n"
     ]
    }
   ],
   "source": [
    "## 7. 模型验证\n",
    "lstm2.eval()\n",
    "test_y_all = torch.LongTensor()\n",
    "pre_lab_all = torch.LongTensor()\n",
    "\n",
    "## 使用sensor4验证一下看看模型正不正常\n",
    "for b_x, b_y in zip (sensor2,y):\n",
    "    ## input :[batch, time_step, input_dim]\n",
    "    xdata = b_x.view(-1, sequence_dim, input_dim)\n",
    "    output = lstm2(xdata)\n",
    "    pre_lab = torch.argmax(output,1)\n",
    "    test_y_all = torch.cat((test_y_all,b_y)) ## 测试集的标签\n",
    "    pre_lab_all = torch.cat((pre_lab_all,pre_lab)) ## 测试集的预测标签\n",
    "acc = accuracy_score(test_y_all,pre_lab_all)\n",
    "print(\"传感器2的预测精度为：\",acc)\n",
    "\n",
    "print(test_y_all.shape)\n",
    "print(pre_lab_all.shape)"
   ]
  },
  {
   "cell_type": "code",
   "execution_count": 11,
   "metadata": {},
   "outputs": [],
   "source": [
    "## 8.生成决策矩阵\n",
    "for i in range(y.shape[0]):\n",
    "    xdata1 = sensor1[i].view(-1, sequence_dim, input_dim)\n",
    "    xdata2 = sensor2[i].view(-1, sequence_dim, input_dim)\n",
    "    xdata3 = sensor3[i].view(-1, sequence_dim, input_dim)\n",
    "    xdata4 = sensor4[i].view(-1, sequence_dim, input_dim)\n",
    "    \n",
    "    output1 = lstm1(xdata1)\n",
    "    output2 = lstm2(xdata2)\n",
    "    output3 = lstm3(xdata3)\n",
    "    output4 = lstm4(xdata4)\n",
    "    \n",
    "    ## 决策矩阵 decision matrix 行代表各标签隶属度，列代表传感器\n",
    "    DM = torch.cat((output1,output2,output3,output4)) \n",
    "    DM = torch.transpose(DM,1,0)\n",
    "    ## 决策矩阵去量纲\n",
    "    scales = MinMaxScaler(feature_range=(0,1))\n",
    "    DM = scales.fit_transform(DM.detach())\n",
    "    DM = torch.from_numpy(DM)\n",
    "    \n",
    "    if i == 0:\n",
    "        dmset = DM\n",
    "    else:\n",
    "        dmset = torch.cat((dmset,DM),dim=0)\n",
    "        \n",
    "## 决策矩阵集        \n",
    "DMSET = dmset.reshape(700,7,4)\n"
   ]
  },
  {
   "cell_type": "code",
   "execution_count": 12,
   "metadata": {},
   "outputs": [
    {
     "name": "stdout",
     "output_type": "stream",
     "text": [
      "决策融合后的识别精度为： 100.0 %\n"
     ]
    }
   ],
   "source": [
    "## 9.决策融合\n",
    "PRE_LAB_ALL = torch.LongTensor()\n",
    "\n",
    "for i in range(DMSET.shape[0]):\n",
    "    W = weights(DMSET[i]) ## 权重向量\n",
    "    D_mat = DMSET[i] * W ## 评价矩阵 = 决策矩阵×权重\n",
    "    D = torch.sum(D_mat,1) ## 融合后的评估值\n",
    "    PRE_LAB = torch.argmax(D)\n",
    "    PRE_LAB = PRE_LAB.reshape(1)\n",
    "    PRE_LAB_ALL = torch.cat((PRE_LAB_ALL,PRE_LAB)) ## 预测的标签\n",
    "\n",
    "y = y.reshape(700)\n",
    "ACC = accuracy_score(y,PRE_LAB_ALL)  \n",
    "print(\"决策融合后的识别精度为：\",ACC*100,\"%\")"
   ]
  }
 ],
 "metadata": {
  "kernelspec": {
   "display_name": "Python 3",
   "language": "python",
   "name": "python3"
  },
  "language_info": {
   "codemirror_mode": {
    "name": "ipython",
    "version": 3
   },
   "file_extension": ".py",
   "mimetype": "text/x-python",
   "name": "python",
   "nbconvert_exporter": "python",
   "pygments_lexer": "ipython3",
   "version": "3.8.8"
  }
 },
 "nbformat": 4,
 "nbformat_minor": 4
}
