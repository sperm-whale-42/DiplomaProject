{
 "cells": [
  {
   "cell_type": "markdown",
   "metadata": {},
   "source": [
    "## 说明\n",
    "\n",
    "输入：从声信号经提取出的三维特征矩阵，行(时序)列（特征种类）页（样本数量）\n",
    "\n",
    "输出：训练曲线、精度与混淆热力图、二维特征空间\n",
    "\n",
    "作者：许志翔（西安交通大学 车辆71）\n",
    "\n",
    "联系方式：mr_xuzhixiang@qq.com\n",
    "\n",
    "参考：孙玉林，余本国.PyTorch深度学习入门与实战.北京:水利水电出版社,2020."
   ]
  },
  {
   "cell_type": "code",
   "execution_count": 1,
   "metadata": {},
   "outputs": [],
   "source": [
    "import torch\n",
    "import torch.nn as nn\n",
    "import numpy as np\n",
    "import seaborn as sns # 绘图\n",
    "import torchvision.transforms as transforms\n",
    "import torch.utils.data as Data\n",
    "from scipy.io import loadmat # mat数据加载接口\n",
    "from sklearn.model_selection import train_test_split # 用于数据集的切分\n",
    "from sklearn.preprocessing import StandardScaler,MinMaxScaler # 数据标准化预处理\n",
    "from sklearn.metrics import accuracy_score,confusion_matrix # 用于计算精度与混淆矩阵\n",
    "from sklearn.manifold import TSNE # 降维\n",
    "import pandas as pd\n",
    "import matplotlib.pyplot as plt"
   ]
  },
  {
   "cell_type": "code",
   "execution_count": 2,
   "metadata": {},
   "outputs": [],
   "source": [
    "# 1. 加载数据集\n",
    "file = 'D:\\My files\\diploma project\\data\\data_1.mat'"
   ]
  },
  {
   "cell_type": "code",
   "execution_count": 3,
   "metadata": {},
   "outputs": [
    {
     "name": "stdout",
     "output_type": "stream",
     "text": [
      "<class 'dict'>\n"
     ]
    }
   ],
   "source": [
    "## mat_dtype=True，保证了导入后变量的数据类型与原类型一致。\n",
    "data_1 = loadmat(file, mat_dtype=True)\n",
    "print(type(data_1))"
   ]
  },
  {
   "cell_type": "code",
   "execution_count": 4,
   "metadata": {},
   "outputs": [
    {
     "name": "stdout",
     "output_type": "stream",
     "text": [
      "x.shape: torch.Size([700, 1640])\n",
      "y.shape: torch.Size([700])\n"
     ]
    }
   ],
   "source": [
    "## 导入后的data是一个字典，取出想要的变量字段即可。\n",
    "X = data_1['Features_1']\n",
    "Y = data_1['targets_1']\n",
    "\n",
    "## matlab与python储存顺序不同，需要对三维矩阵进行旋转\n",
    "X_p = np.transpose(X,(2,0,1))\n",
    "X_p = X_p.reshape(700,1640)\n",
    "## Y_p = Y.reshape(Y.shape[1])不知道为什么会报错\n",
    "Y_p = Y.reshape(700)\n",
    "\n",
    "## 将X,Y转为张量\n",
    "x = torch.from_numpy(X_p.astype(np.float32))\n",
    "y = torch.from_numpy(Y_p.astype(np.int64))\n",
    "\n",
    "print('x.shape:',x.shape)\n",
    "print('y.shape:',y.shape)"
   ]
  },
  {
   "cell_type": "code",
   "execution_count": 5,
   "metadata": {},
   "outputs": [],
   "source": [
    "## 将数据随机切分为训练集75%和测试集25%\n",
    "x_train,x_test,y_train,y_test = train_test_split(x,y,test_size=0.25,random_state=123)\n",
    "\n",
    "## 数据归一化，特征值范围转化到0~1间\n",
    "## 注意，只能对训练集使用fit\n",
    "scales = MinMaxScaler(feature_range=(0,1))\n",
    "x_train_s = scales.fit_transform(x_train)\n",
    "x_test_s = scales.transform(x_test)\n",
    "\n",
    "## 归一化后X又变成numpy了，再重新转成tensor\n",
    "x_train_s = torch.from_numpy(x_train_s.astype(np.float32))\n",
    "x_test_s = torch.from_numpy(x_test_s.astype(np.float32))"
   ]
  },
  {
   "cell_type": "code",
   "execution_count": 6,
   "metadata": {},
   "outputs": [],
   "source": [
    "## 使用TensorDataset将x和y整理到一起\n",
    "trainsets = Data.TensorDataset(x_train_s,y_train)\n",
    "\n",
    "testsets = Data.TensorDataset(x_test_s,y_test)"
   ]
  },
  {
   "cell_type": "code",
   "execution_count": 7,
   "metadata": {},
   "outputs": [],
   "source": [
    "# 2. 定义超参数\n",
    "BATCH_SIZE = 16 # 每批读取的数据大小，我的电脑最多只能设16，写再高也是16\n",
    "EPOCHS = 100 # 训练10轮"
   ]
  },
  {
   "cell_type": "code",
   "execution_count": 8,
   "metadata": {},
   "outputs": [],
   "source": [
    "# 3. 创建数据集的可迭代对象，也就是说一个batch一个batch的读取数据\n",
    "train_loader = Data.DataLoader(dataset=trainsets, batch_size=BATCH_SIZE, shuffle=True)\n",
    "\n",
    "test_loader = Data.DataLoader(dataset=testsets, batch_size=BATCH_SIZE, shuffle=True)"
   ]
  },
  {
   "cell_type": "code",
   "execution_count": 9,
   "metadata": {},
   "outputs": [
    {
     "name": "stdout",
     "output_type": "stream",
     "text": [
      "torch.Size([16, 1640])\n",
      "torch.Size([16])\n"
     ]
    }
   ],
   "source": [
    "## 查看数据\n",
    "images, labels = next(iter(test_loader))\n",
    "print(images.shape)\n",
    "print(labels.shape)"
   ]
  },
  {
   "cell_type": "code",
   "execution_count": 10,
   "metadata": {},
   "outputs": [],
   "source": [
    "# 4. 搭建LSTM分类器\n",
    "class LSTMimc(nn.Module):\n",
    "    def __init__(self, input_dim, hidden_dim, layer_dim, output_dim):\n",
    "        super(LSTMimc, self).__init__()\n",
    "        self.hidden_dim = hidden_dim ## LSTM神经元个数\n",
    "        self.layer_dim = layer_dim   ## LSTM的层数\n",
    "        self.lstm = nn.LSTM(input_dim,hidden_dim,layer_dim,batch_first=True) ## nonlinearity='relu'\n",
    "        ## 连接全连接层\n",
    "        self.fc1 = nn.Linear(hidden_dim,output_dim) ## self.fc1 = nn.Linear(hidden_dim,output_dim)\n",
    "        ## 添加dropout层\n",
    "        ## self.dropout = nn.Dropout(p=0.5)  ## dropout训练\n",
    "        \n",
    "    def forward(self,x):\n",
    "        ## x:[batch,time_step,input_dim]\n",
    "        ## h_n:[layer_dim,batch,hidden_dim]\n",
    "        h_0 = torch.zeros(self.layer_dim, x.size(0), self.hidden_dim).requires_grad_().to(device)\n",
    "        c_0 = torch.zeros(self.layer_dim, x.size(0), self.hidden_dim).requires_grad_().to(device)\n",
    "        out, (h_n, c_n) = self.lstm(x,(h_0.detach(),c_0.detach())) ## None表示h0会使用全0进行初始化\n",
    "        ## 选取最后一个时间点的out输出\n",
    "        ## out = self.dropout(out)\n",
    "        out = self.fc1(out[:,-1,:])\n",
    "        return out"
   ]
  },
  {
   "cell_type": "code",
   "execution_count": 11,
   "metadata": {},
   "outputs": [
    {
     "name": "stdout",
     "output_type": "stream",
     "text": [
      "LSTMimc(\n",
      "  (lstm): LSTM(40, 64, batch_first=True)\n",
      "  (fc1): Linear(in_features=64, out_features=7, bias=True)\n",
      ")\n"
     ]
    }
   ],
   "source": [
    "# 5. 初始化模型\n",
    "input_dim=40 ## 图片每行的像素数量\n",
    "hidden_dim=64 ## RNN神经元个数\n",
    "layer_dim=1 ## RNN的层数\n",
    "output_dim=7 ## 隐藏层输出的维度（7类图像）\n",
    "MyLSTMimc = LSTMimc(input_dim,hidden_dim,layer_dim,output_dim)\n",
    "\n",
    "device = torch.device('cuda:0' if torch.cuda.is_available() else 'cpu')\n",
    "\n",
    "print(MyLSTMimc)"
   ]
  },
  {
   "cell_type": "code",
   "execution_count": 12,
   "metadata": {},
   "outputs": [
    {
     "name": "stdout",
     "output_type": "stream",
     "text": [
      "Epoch 0/99\n",
      "0Train Loss: 0.0498 Train Acc: 0.2171\n",
      "0Test Loss:0.1715 Test Acc:0.2686\n",
      "Epoch 1/99\n",
      "1Train Loss: 0.0497 Train Acc: 0.2895\n",
      "1Test Loss:0.1516 Test Acc:0.3771\n",
      "Epoch 2/99\n",
      "2Train Loss: 0.0444 Train Acc: 0.3790\n",
      "2Test Loss:0.1585 Test Acc:0.3600\n",
      "Epoch 3/99\n",
      "3Train Loss: 0.0360 Train Acc: 0.4533\n",
      "3Test Loss:0.1507 Test Acc:0.4057\n",
      "Epoch 4/99\n",
      "4Train Loss: 0.0349 Train Acc: 0.5333\n",
      "4Test Loss:0.1199 Test Acc:0.5543\n",
      "Epoch 5/99\n",
      "5Train Loss: 0.0328 Train Acc: 0.5695\n",
      "5Test Loss:0.1278 Test Acc:0.5486\n",
      "Epoch 6/99\n",
      "6Train Loss: 0.0354 Train Acc: 0.6152\n",
      "6Test Loss:0.1135 Test Acc:0.5886\n",
      "Epoch 7/99\n",
      "7Train Loss: 0.0281 Train Acc: 0.6686\n",
      "7Test Loss:0.1367 Test Acc:0.5086\n",
      "Epoch 8/99\n",
      "8Train Loss: 0.0302 Train Acc: 0.6514\n",
      "8Test Loss:0.1223 Test Acc:0.6057\n",
      "Epoch 9/99\n",
      "9Train Loss: 0.0265 Train Acc: 0.6914\n",
      "9Test Loss:0.1135 Test Acc:0.6286\n",
      "Epoch 10/99\n",
      "10Train Loss: 0.0233 Train Acc: 0.6857\n",
      "10Test Loss:0.0970 Test Acc:0.7029\n",
      "Epoch 11/99\n",
      "11Train Loss: 0.0309 Train Acc: 0.7371\n",
      "11Test Loss:0.0963 Test Acc:0.6800\n",
      "Epoch 12/99\n",
      "12Train Loss: 0.0181 Train Acc: 0.7429\n",
      "12Test Loss:0.0634 Test Acc:0.7486\n",
      "Epoch 13/99\n",
      "13Train Loss: 0.0197 Train Acc: 0.7467\n",
      "13Test Loss:0.1049 Test Acc:0.7143\n",
      "Epoch 14/99\n",
      "14Train Loss: 0.0261 Train Acc: 0.7829\n",
      "14Test Loss:0.0726 Test Acc:0.7771\n",
      "Epoch 15/99\n",
      "15Train Loss: 0.0255 Train Acc: 0.8248\n",
      "15Test Loss:0.0895 Test Acc:0.7886\n",
      "Epoch 16/99\n",
      "16Train Loss: 0.0253 Train Acc: 0.8190\n",
      "16Test Loss:0.0539 Test Acc:0.7600\n",
      "Epoch 17/99\n",
      "17Train Loss: 0.0160 Train Acc: 0.8210\n",
      "17Test Loss:0.0538 Test Acc:0.8171\n",
      "Epoch 18/99\n",
      "18Train Loss: 0.0157 Train Acc: 0.8210\n",
      "18Test Loss:0.0721 Test Acc:0.8343\n",
      "Epoch 19/99\n",
      "19Train Loss: 0.0229 Train Acc: 0.8571\n",
      "19Test Loss:0.0612 Test Acc:0.7429\n",
      "Epoch 20/99\n",
      "20Train Loss: 0.0145 Train Acc: 0.8438\n",
      "20Test Loss:0.0462 Test Acc:0.8686\n",
      "Epoch 21/99\n",
      "21Train Loss: 0.0084 Train Acc: 0.8571\n",
      "21Test Loss:0.0547 Test Acc:0.8457\n",
      "Epoch 22/99\n",
      "22Train Loss: 0.0130 Train Acc: 0.8629\n",
      "22Test Loss:0.0636 Test Acc:0.8286\n",
      "Epoch 23/99\n",
      "23Train Loss: 0.0061 Train Acc: 0.8610\n",
      "23Test Loss:0.0672 Test Acc:0.8914\n",
      "Epoch 24/99\n",
      "24Train Loss: 0.0216 Train Acc: 0.8724\n",
      "24Test Loss:0.0569 Test Acc:0.8514\n",
      "Epoch 25/99\n",
      "25Train Loss: 0.0088 Train Acc: 0.9010\n",
      "25Test Loss:0.0626 Test Acc:0.8800\n",
      "Epoch 26/99\n",
      "26Train Loss: 0.0094 Train Acc: 0.8743\n",
      "26Test Loss:0.0685 Test Acc:0.8686\n",
      "Epoch 27/99\n",
      "27Train Loss: 0.0126 Train Acc: 0.8952\n",
      "27Test Loss:0.0521 Test Acc:0.9086\n",
      "Epoch 28/99\n",
      "28Train Loss: 0.0097 Train Acc: 0.9238\n",
      "28Test Loss:0.0581 Test Acc:0.8514\n",
      "Epoch 29/99\n",
      "29Train Loss: 0.0157 Train Acc: 0.8876\n",
      "29Test Loss:0.1093 Test Acc:0.7886\n",
      "Epoch 30/99\n",
      "30Train Loss: 0.0075 Train Acc: 0.9200\n",
      "30Test Loss:0.0476 Test Acc:0.9086\n",
      "Epoch 31/99\n",
      "31Train Loss: 0.0077 Train Acc: 0.9276\n",
      "31Test Loss:0.0269 Test Acc:0.8914\n",
      "Epoch 32/99\n",
      "32Train Loss: 0.0119 Train Acc: 0.9390\n",
      "32Test Loss:0.0361 Test Acc:0.9086\n",
      "Epoch 33/99\n",
      "33Train Loss: 0.0115 Train Acc: 0.8990\n",
      "33Test Loss:0.0415 Test Acc:0.8571\n",
      "Epoch 34/99\n",
      "34Train Loss: 0.0150 Train Acc: 0.9143\n",
      "34Test Loss:0.0632 Test Acc:0.8629\n",
      "Epoch 35/99\n",
      "35Train Loss: 0.0060 Train Acc: 0.9410\n",
      "35Test Loss:0.0216 Test Acc:0.8971\n",
      "Epoch 36/99\n",
      "36Train Loss: 0.0062 Train Acc: 0.9371\n",
      "36Test Loss:0.0130 Test Acc:0.9314\n",
      "Epoch 37/99\n",
      "37Train Loss: 0.0054 Train Acc: 0.9486\n",
      "37Test Loss:0.0371 Test Acc:0.9371\n",
      "Epoch 38/99\n",
      "38Train Loss: 0.0084 Train Acc: 0.9467\n",
      "38Test Loss:0.0202 Test Acc:0.9029\n",
      "Epoch 39/99\n",
      "39Train Loss: 0.0046 Train Acc: 0.9562\n",
      "39Test Loss:0.0327 Test Acc:0.9314\n",
      "Epoch 40/99\n",
      "40Train Loss: 0.0045 Train Acc: 0.9410\n",
      "40Test Loss:0.0341 Test Acc:0.9486\n",
      "Epoch 41/99\n",
      "41Train Loss: 0.0028 Train Acc: 0.9600\n",
      "41Test Loss:0.0103 Test Acc:0.9600\n",
      "Epoch 42/99\n",
      "42Train Loss: 0.0283 Train Acc: 0.9581\n",
      "42Test Loss:0.0268 Test Acc:0.8171\n",
      "Epoch 43/99\n",
      "43Train Loss: 0.0037 Train Acc: 0.9486\n",
      "43Test Loss:0.0108 Test Acc:0.9314\n",
      "Epoch 44/99\n",
      "44Train Loss: 0.0028 Train Acc: 0.9771\n",
      "44Test Loss:0.0230 Test Acc:0.9314\n",
      "Epoch 45/99\n",
      "45Train Loss: 0.0054 Train Acc: 0.9790\n",
      "45Test Loss:0.0111 Test Acc:0.9429\n",
      "Epoch 46/99\n",
      "46Train Loss: 0.0021 Train Acc: 0.9429\n",
      "46Test Loss:0.0154 Test Acc:0.9543\n",
      "Epoch 47/99\n",
      "47Train Loss: 0.0016 Train Acc: 0.9886\n",
      "47Test Loss:0.0321 Test Acc:0.9543\n",
      "Epoch 48/99\n",
      "48Train Loss: 0.0034 Train Acc: 0.9238\n",
      "48Test Loss:0.0118 Test Acc:0.9314\n",
      "Epoch 49/99\n",
      "49Train Loss: 0.0055 Train Acc: 0.9848\n",
      "49Test Loss:0.0097 Test Acc:0.9714\n",
      "Epoch 50/99\n",
      "50Train Loss: 0.0045 Train Acc: 0.9829\n",
      "50Test Loss:0.0110 Test Acc:0.9771\n",
      "Epoch 51/99\n",
      "51Train Loss: 0.0022 Train Acc: 0.9600\n",
      "51Test Loss:0.0093 Test Acc:0.9600\n",
      "Epoch 52/99\n",
      "52Train Loss: 0.0023 Train Acc: 0.9619\n",
      "52Test Loss:0.0128 Test Acc:0.9429\n",
      "Epoch 53/99\n",
      "53Train Loss: 0.0010 Train Acc: 0.9924\n",
      "53Test Loss:0.0148 Test Acc:0.9714\n",
      "Epoch 54/99\n",
      "54Train Loss: 0.0010 Train Acc: 0.9924\n",
      "54Test Loss:0.0109 Test Acc:0.9657\n",
      "Epoch 55/99\n",
      "55Train Loss: 0.0032 Train Acc: 0.9905\n",
      "55Test Loss:0.0105 Test Acc:0.9429\n",
      "Epoch 56/99\n",
      "56Train Loss: 0.0013 Train Acc: 0.9638\n",
      "56Test Loss:0.0142 Test Acc:0.9543\n",
      "Epoch 57/99\n",
      "57Train Loss: 0.0008 Train Acc: 0.9905\n",
      "57Test Loss:0.0129 Test Acc:0.9600\n",
      "Epoch 58/99\n",
      "58Train Loss: 0.0014 Train Acc: 0.9581\n",
      "58Test Loss:0.0178 Test Acc:0.9829\n",
      "Epoch 59/99\n",
      "59Train Loss: 0.0027 Train Acc: 0.9905\n",
      "59Test Loss:0.0033 Test Acc:0.9314\n",
      "Epoch 60/99\n",
      "60Train Loss: 0.0023 Train Acc: 0.9962\n",
      "60Test Loss:0.0198 Test Acc:0.9543\n",
      "Epoch 61/99\n",
      "61Train Loss: 0.0065 Train Acc: 0.9467\n",
      "61Test Loss:0.0318 Test Acc:0.8971\n",
      "Epoch 62/99\n",
      "62Train Loss: 0.0008 Train Acc: 0.9771\n",
      "62Test Loss:0.0094 Test Acc:0.9771\n",
      "Epoch 63/99\n",
      "63Train Loss: 0.0010 Train Acc: 0.9981\n",
      "63Test Loss:0.0032 Test Acc:0.9657\n",
      "Epoch 64/99\n",
      "64Train Loss: 0.0004 Train Acc: 1.0000\n",
      "64Test Loss:0.0029 Test Acc:0.9714\n",
      "Epoch 65/99\n",
      "65Train Loss: 0.0008 Train Acc: 0.9829\n",
      "65Test Loss:0.0127 Test Acc:0.9771\n",
      "Epoch 66/99\n",
      "66Train Loss: 0.0007 Train Acc: 0.9962\n",
      "66Test Loss:0.0035 Test Acc:0.9714\n",
      "Epoch 67/99\n",
      "67Train Loss: 0.0005 Train Acc: 0.9981\n",
      "67Test Loss:0.0095 Test Acc:0.9771\n",
      "Epoch 68/99\n",
      "68Train Loss: 0.0011 Train Acc: 0.9981\n",
      "68Test Loss:0.0016 Test Acc:0.9714\n",
      "Epoch 69/99\n",
      "69Train Loss: 0.0007 Train Acc: 0.9467\n",
      "69Test Loss:0.0031 Test Acc:0.9429\n",
      "Epoch 70/99\n",
      "70Train Loss: 0.0121 Train Acc: 0.9543\n",
      "70Test Loss:0.0500 Test Acc:0.8971\n",
      "Epoch 71/99\n",
      "71Train Loss: 0.0011 Train Acc: 0.9600\n",
      "71Test Loss:0.0025 Test Acc:0.9657\n",
      "Epoch 72/99\n",
      "72Train Loss: 0.0006 Train Acc: 0.9943\n",
      "72Test Loss:0.0139 Test Acc:0.9714\n",
      "Epoch 73/99\n",
      "73Train Loss: 0.0005 Train Acc: 0.9962\n",
      "73Test Loss:0.0151 Test Acc:0.9314\n",
      "Epoch 74/99\n",
      "74Train Loss: 0.0004 Train Acc: 0.9981\n",
      "74Test Loss:0.0023 Test Acc:0.9657\n",
      "Epoch 75/99\n",
      "75Train Loss: 0.0005 Train Acc: 1.0000\n",
      "75Test Loss:0.0234 Test Acc:0.9771\n",
      "Epoch 76/99\n",
      "76Train Loss: 0.0005 Train Acc: 1.0000\n",
      "76Test Loss:0.0053 Test Acc:0.9657\n",
      "Epoch 77/99\n",
      "77Train Loss: 0.0005 Train Acc: 1.0000\n",
      "77Test Loss:0.0042 Test Acc:0.9714\n",
      "Epoch 78/99\n",
      "78Train Loss: 0.0003 Train Acc: 1.0000\n",
      "78Test Loss:0.0155 Test Acc:0.9714\n",
      "Epoch 79/99\n",
      "79Train Loss: 0.0050 Train Acc: 0.9371\n",
      "79Test Loss:0.0333 Test Acc:0.8457\n",
      "Epoch 80/99\n",
      "80Train Loss: 0.0010 Train Acc: 0.9771\n",
      "80Test Loss:0.0231 Test Acc:0.9600\n",
      "Epoch 81/99\n",
      "81Train Loss: 0.0007 Train Acc: 1.0000\n",
      "81Test Loss:0.0035 Test Acc:0.9771\n",
      "Epoch 82/99\n",
      "82Train Loss: 0.0006 Train Acc: 1.0000\n",
      "82Test Loss:0.0025 Test Acc:0.9771\n",
      "Epoch 83/99\n",
      "83Train Loss: 0.0003 Train Acc: 1.0000\n",
      "83Test Loss:0.0231 Test Acc:0.9657\n",
      "Epoch 84/99\n",
      "84Train Loss: 0.0003 Train Acc: 0.9943\n",
      "84Test Loss:0.0036 Test Acc:0.9714\n",
      "Epoch 85/99\n",
      "85Train Loss: 0.0072 Train Acc: 0.9771\n",
      "85Test Loss:0.1072 Test Acc:0.8457\n",
      "Epoch 86/99\n",
      "86Train Loss: 0.0011 Train Acc: 0.9505\n",
      "86Test Loss:0.0266 Test Acc:0.9371\n",
      "Epoch 87/99\n",
      "87Train Loss: 0.0011 Train Acc: 0.9810\n",
      "87Test Loss:0.0032 Test Acc:0.9714\n",
      "Epoch 88/99\n",
      "88Train Loss: 0.0004 Train Acc: 1.0000\n",
      "88Test Loss:0.0018 Test Acc:0.9714\n",
      "Epoch 89/99\n",
      "89Train Loss: 0.0003 Train Acc: 1.0000\n",
      "89Test Loss:0.0017 Test Acc:0.9714\n",
      "Epoch 90/99\n",
      "90Train Loss: 0.0008 Train Acc: 1.0000\n",
      "90Test Loss:0.0014 Test Acc:0.9714\n",
      "Epoch 91/99\n",
      "91Train Loss: 0.0002 Train Acc: 1.0000\n",
      "91Test Loss:0.0022 Test Acc:0.9714\n",
      "Epoch 92/99\n",
      "92Train Loss: 0.0002 Train Acc: 1.0000\n",
      "92Test Loss:0.0075 Test Acc:0.9714\n",
      "Epoch 93/99\n",
      "93Train Loss: 0.0002 Train Acc: 1.0000\n",
      "93Test Loss:0.0015 Test Acc:0.9714\n",
      "Epoch 94/99\n",
      "94Train Loss: 0.0003 Train Acc: 1.0000\n",
      "94Test Loss:0.0166 Test Acc:0.9714\n",
      "Epoch 95/99\n",
      "95Train Loss: 0.0104 Train Acc: 0.9410\n",
      "95Test Loss:0.0039 Test Acc:0.9029\n",
      "Epoch 96/99\n"
     ]
    },
    {
     "name": "stdout",
     "output_type": "stream",
     "text": [
      "96Train Loss: 0.0014 Train Acc: 0.9943\n",
      "96Test Loss:0.0184 Test Acc:0.9429\n",
      "Epoch 97/99\n",
      "97Train Loss: 0.0002 Train Acc: 1.0000\n",
      "97Test Loss:0.0015 Test Acc:0.9771\n",
      "Epoch 98/99\n",
      "98Train Loss: 0.0003 Train Acc: 1.0000\n",
      "98Test Loss:0.0021 Test Acc:0.9771\n",
      "Epoch 99/99\n",
      "99Train Loss: 0.0003 Train Acc: 1.0000\n",
      "99Test Loss:0.0290 Test Acc:0.9714\n"
     ]
    }
   ],
   "source": [
    "# 6. 对模型进行训练\n",
    "sequence_dim = 41 ## 序列长度（矩阵有多少行）\n",
    "optimizer = torch.optim.RMSprop(MyLSTMimc.parameters(), lr=0.0003)\n",
    "criterion = nn.CrossEntropyLoss() ## 损失函数\n",
    "train_loss_all =[]\n",
    "train_acc_all =[]\n",
    "test_loss_all =[]\n",
    "test_acc_all=[]\n",
    "for epoch in range(EPOCHS):\n",
    "    print('Epoch {}/{}'.format(epoch, EPOCHS-1))\n",
    "    MyLSTMimc.train() ## 设置模型为训练模式\n",
    "    corrects = 0\n",
    "    train_num = 0\n",
    "    for step,(b_x, b_y) in enumerate(train_loader):\n",
    "        ## input [batch, time_step, input_dim]\n",
    "        xdata =b_x.view(-1, sequence_dim, input_dim)\n",
    "        output = MyLSTMimc(xdata)\n",
    "        pre_lab = torch.argmax(output, 1)\n",
    "        loss = criterion(output, b_y)\n",
    "        optimizer.zero_grad ()\n",
    "        loss.backward()\n",
    "        optimizer.step()\n",
    "        loss += loss.item() * b_x.size(0)\n",
    "        corrects += torch.sum(pre_lab == b_y.data)\n",
    "        train_num += b_x.size(0)\n",
    "    ## 计算经过一个 epoch的训练后在训练集上的损失和精度\n",
    "    train_loss_all.append (loss.data / train_num)\n",
    "    train_acc_all.append(corrects.double().item()/train_num)\n",
    "    print('{}Train Loss: {:.4f} Train Acc: {:.4f}'.format(\n",
    "        epoch, train_loss_all[-1], train_acc_all[-1]))\n",
    "    ## 设置模型为验证模式\n",
    "    MyLSTMimc.eval()\n",
    "    corrects = 0\n",
    "    test_num = 0\n",
    "    \n",
    "    for step,(b_x, b_y) in enumerate (test_loader):\n",
    "        ## input :[batch, time_step, input_dim]\n",
    "        xdata = b_x.view(-1, sequence_dim, input_dim)\n",
    "        output = MyLSTMimc(xdata)\n",
    "        pre_lab= torch.argmax(output,1)\n",
    "        loss = criterion(output,b_y)\n",
    "        loss += loss.item()* b_x.size(0)\n",
    "        corrects += torch.sum(pre_lab == b_y.data)\n",
    "        test_num += b_x.size(0)\n",
    "    ## 计算经过一个 epoch的训练后在测试集上的损失和精度\n",
    "    test_loss_all.append(loss.data / test_num)\n",
    "    test_acc_all.append(corrects.double().item()/test_num)\n",
    "    print('{}Test Loss:{:.4f} Test Acc:{:.4f}'. format(\n",
    "        epoch,test_loss_all[-1], test_acc_all[-1]))\n"
   ]
  },
  {
   "cell_type": "code",
   "execution_count": 13,
   "metadata": {},
   "outputs": [
    {
     "data": {
      "image/png": "[encoded data removed]",
      "text/plain": [
       "<Figure size 960.48x360 with 2 Axes>"
      ]
     },
     "metadata": {
      "needs_background": "light"
     },
     "output_type": "display_data"
    }
   ],
   "source": [
    "# 7. 可视化模型训练过程\n",
    "plt.figure(figsize=(6.67*2, 5.0))\n",
    "plt.subplot(1, 2, 1)\n",
    "plt.plot(train_loss_all, \"r\", label =\"Train loss\")\n",
    "plt.plot(test_loss_all,\"b\", label =\"Val loss\")\n",
    "plt.legend()\n",
    "plt.xlabel(\"epoch\")\n",
    "plt.ylabel(\"Loss\")\n",
    "plt.subplot(1, 2, 2)\n",
    "plt.plot(train_acc_all, \"r\", label =\"Train acc\")\n",
    "plt.plot(test_acc_all,\"b\", label =\"Val acc\")\n",
    "plt.xlabel(\"epoch\")\n",
    "plt.ylabel(\"acc\")\n",
    "plt.legend()\n",
    "plt.savefig('all.png')\n",
    "plt.show()"
   ]
  },
  {
   "cell_type": "code",
   "execution_count": 14,
   "metadata": {},
   "outputs": [
    {
     "name": "stdout",
     "output_type": "stream",
     "text": [
      "tensor([ 6.9658,  1.4250, -3.6616, -6.7012, -1.5701,  0.8450, -1.1091])\n",
      "tensor(0)\n"
     ]
    }
   ],
   "source": [
    "print(output.data[1])\n",
    "pre_lab = torch.argmax(output,1)[1]\n",
    "print(pre_lab)"
   ]
  },
  {
   "cell_type": "code",
   "execution_count": 15,
   "metadata": {},
   "outputs": [
    {
     "name": "stdout",
     "output_type": "stream",
     "text": [
      "tensor([[-1.5758, -1.6791,  0.9534, -0.1277, -2.8732, -3.1259,  6.0115],\n",
      "        [ 6.9658,  1.4250, -3.6616, -6.7012, -1.5701,  0.8450, -1.1091],\n",
      "        [-1.7809,  1.0561, -3.1819, -0.6788, -3.8852,  1.4078,  4.8958],\n",
      "        [-1.1748,  0.8059, -2.5304, -0.8749,  6.4652, -0.6241, -2.5572],\n",
      "        [-1.7099,  6.2711, -3.0843, -0.2073, -3.2106,  0.7890,  0.0422],\n",
      "        [-1.2325,  6.4745, -5.5827,  0.7339, -0.4380, -0.4899, -0.0137],\n",
      "        [-2.7951,  0.2736,  0.0081,  0.8210, -4.3271, -0.8813,  5.7768],\n",
      "        [ 0.9480, -5.3146,  6.2034, -1.6153, -1.3572,  0.4149, -2.0403],\n",
      "        [-1.7352,  3.6663, -2.9630,  3.2309, -2.2034, -0.7499, -1.4118],\n",
      "        [ 7.2943, -0.1187,  0.1107, -5.9164, -2.9796, -2.5173,  0.3407],\n",
      "        [-2.4048,  2.0187, -3.2429,  0.8707,  4.3480,  0.4229, -2.2644],\n",
      "        [ 1.4600,  5.2251, -3.5360, -1.0406,  0.9331, -2.8718, -1.6885],\n",
      "        [-1.5497, -4.3927,  6.1034,  0.4347, -1.2103,  0.5779, -1.3785],\n",
      "        [-2.9216,  1.4462, -1.6377, -0.0648, -4.0934, -0.5837,  6.7470],\n",
      "        [ 7.2757, -0.1153, -1.6590, -6.0940, -2.6082, -0.4536, -0.3707]])\n",
      "tensor([6, 0, 6, 4, 1, 1, 6, 2, 1, 0, 4, 1, 2, 6, 0])\n"
     ]
    }
   ],
   "source": [
    "print(output.data)\n",
    "pre_lab = torch.argmax(output,1)\n",
    "print(pre_lab)"
   ]
  },
  {
   "cell_type": "code",
   "execution_count": 16,
   "metadata": {},
   "outputs": [
    {
     "name": "stdout",
     "output_type": "stream",
     "text": [
      "在测试集上的预测精度为： 0.9714285714285714\n"
     ]
    },
    {
     "data": {
      "text/plain": [
       "<function matplotlib.pyplot.show(*args, **kw)>"
      ]
     },
     "execution_count": 16,
     "metadata": {},
     "output_type": "execute_result"
    },
    {
     "data": {
      "image/png": "[encoded data removed]",
      "text/plain": [
       "<Figure size 480.24x360 with 2 Axes>"
      ]
     },
     "metadata": {
      "needs_background": "light"
     },
     "output_type": "display_data"
    }
   ],
   "source": [
    "# 8. 精度与混淆矩阵热力图 \n",
    "MyLSTMimc.eval()\n",
    "test_y_all = torch.LongTensor()\n",
    "pre_lab_all = torch.LongTensor()\n",
    "for step,(b_x, b_y) in enumerate (test_loader):\n",
    "    ## input :[batch, time_step, input_dim]\n",
    "    xdata = b_x.view(-1, sequence_dim, input_dim)\n",
    "    output = MyLSTMimc(xdata)\n",
    "    pre_lab= torch.argmax(output,1)\n",
    "    test_y_all = torch.cat((test_y_all,b_y)) ## 测试集的标签\n",
    "    pre_lab_all = torch.cat((pre_lab_all,pre_lab)) ## 测试集的预测标签\n",
    "acc = accuracy_score(test_y_all,pre_lab_all)\n",
    "print(\"在测试集上的预测精度为：\",acc)\n",
    "\n",
    "## 计算混淆矩阵并可视化\n",
    "plt.figure(figsize=(6.67, 5.0))\n",
    "class_label = ['3.0J','3.4J','3.8J','4J','4.2J','4.6J','5.0J']\n",
    "conf_mat = confusion_matrix(test_y_all,pre_lab_all) ## 输出是判断对的个数而不是准确率\n",
    "df_cm = pd.DataFrame(conf_mat, index=class_label, columns=class_label)\n",
    "heatmap = sns.heatmap(df_cm, annot=True, fmt='d',cmap='YlGnBu')\n",
    "heatmap.yaxis.set_ticklabels(heatmap.yaxis.get_ticklabels(),\n",
    "                             rotation=0,\n",
    "                             ha='right')\n",
    "heatmap.xaxis.set_ticklabels(heatmap.xaxis.get_ticklabels(),\n",
    "                             rotation=45,\n",
    "                             ha='right')\n",
    "plt.ylabel('True label')\n",
    "plt.xlabel('Predicted label')\n",
    "plt.show"
   ]
  },
  {
   "cell_type": "code",
   "execution_count": 17,
   "metadata": {},
   "outputs": [],
   "source": [
    "# 9. 特征空间可视化 \n",
    "## 定义一个辅助函数，来获取指定层名称的特征\n",
    "activation = {} ## 保存不同层的输出\n",
    "def get_activation(name):\n",
    "    def hook(model, input, output):\n",
    "        activation[name] = output.detach()\n",
    "    return hook    "
   ]
  },
  {
   "cell_type": "code",
   "execution_count": 18,
   "metadata": {},
   "outputs": [
    {
     "name": "stdout",
     "output_type": "stream",
     "text": [
      "fc1.shape: (525, 7)\n"
     ]
    }
   ],
   "source": [
    "## 设置向fc1层注册一个hook获取输出\n",
    "MyLSTMimc.fc1.register_forward_hook(get_activation('fc1'))\n",
    "test_data = x_train_s.view(-1, sequence_dim, input_dim)\n",
    "_ = MyLSTMimc(test_data)\n",
    "fc1 = activation['fc1'].data.numpy()\n",
    "print('fc1.shape:',fc1.shape)"
   ]
  },
  {
   "cell_type": "code",
   "execution_count": 19,
   "metadata": {},
   "outputs": [
    {
     "name": "stdout",
     "output_type": "stream",
     "text": [
      "fc1_2d.shape: (525, 2)\n"
     ]
    }
   ],
   "source": [
    "## 对输出进行降维\n",
    "tsne = TSNE(n_components=2, random_state=0)\n",
    "fc1_2d = tsne.fit_transform(fc1.data) \n",
    "target_ids = range(output_dim)\n",
    "print('fc1_2d.shape:',fc1_2d.shape)"
   ]
  },
  {
   "cell_type": "code",
   "execution_count": 20,
   "metadata": {},
   "outputs": [
    {
     "data": {
      "image/png": "[encoded data removed]",
      "text/plain": [
       "<Figure size 480.24x360 with 1 Axes>"
      ]
     },
     "metadata": {
      "needs_background": "light"
     },
     "output_type": "display_data"
    }
   ],
   "source": [
    "## 绘制特征空间\n",
    "plt.figure(figsize=(6.67, 5.0))\n",
    "colors = 'r', 'lightseagreen', 'royalblue', 'deeppink', 'm', 'gold', 'orange'\n",
    "\n",
    "for i, edgecolors, label in zip(target_ids, colors, class_label):\n",
    "    plt.scatter(fc1_2d[y_train == i, 0], fc1_2d[y_train == i, 1], edgecolors=edgecolors,c='none',s=200,label=label)\n",
    "\n",
    "plt.legend()\n",
    "plt.show()"
   ]
  },
  {
   "cell_type": "code",
   "execution_count": null,
   "metadata": {},
   "outputs": [],
   "source": []
  }
 ],
 "metadata": {
  "kernelspec": {
   "display_name": "Python 3",
   "language": "python",
   "name": "python3"
  },
  "language_info": {
   "codemirror_mode": {
    "name": "ipython",
    "version": 3
   },
   "file_extension": ".py",
   "mimetype": "text/x-python",
   "name": "python",
   "nbconvert_exporter": "python",
   "pygments_lexer": "ipython3",
   "version": "3.8.3"
  }
 },
 "nbformat": 4,
 "nbformat_minor": 4
}
